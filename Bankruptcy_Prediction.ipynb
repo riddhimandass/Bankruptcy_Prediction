{
 "cells": [
  {
   "cell_type": "markdown",
   "metadata": {},
   "source": [
    "# Company Bankruptcy Prediction"
   ]
  },
  {
   "cell_type": "markdown",
   "metadata": {},
   "source": [
    "### Load all the necessary packages"
   ]
  },
  {
   "cell_type": "code",
   "execution_count": 1,
   "metadata": {},
   "outputs": [],
   "source": [
    "import pandas as pd\n",
    "import numpy as np\n",
    "import matplotlib.pyplot as plt\n",
    "import tensorflow as tf\n",
    "from tensorflow import keras\n",
    "from sklearn.preprocessing import StandardScaler\n",
    "from sklearn.model_selection import train_test_split\n",
    "from random import randrange\n",
    "from statsmodels.stats.outliers_influence import variance_inflation_factor"
   ]
  },
  {
   "cell_type": "markdown",
   "metadata": {},
   "source": [
    "### Load the dataset"
   ]
  },
  {
   "cell_type": "code",
   "execution_count": 2,
   "metadata": {},
   "outputs": [
    {
     "data": {
      "text/html": [
       "<div>\n",
       "<style scoped>\n",
       "    .dataframe tbody tr th:only-of-type {\n",
       "        vertical-align: middle;\n",
       "    }\n",
       "\n",
       "    .dataframe tbody tr th {\n",
       "        vertical-align: top;\n",
       "    }\n",
       "\n",
       "    .dataframe thead th {\n",
       "        text-align: right;\n",
       "    }\n",
       "</style>\n",
       "<table border=\"1\" class=\"dataframe\">\n",
       "  <thead>\n",
       "    <tr style=\"text-align: right;\">\n",
       "      <th></th>\n",
       "      <th>Bankrupt?</th>\n",
       "      <th>ROA(C) before interest and depreciation before interest</th>\n",
       "      <th>ROA(A) before interest and % after tax</th>\n",
       "      <th>ROA(B) before interest and depreciation after tax</th>\n",
       "      <th>Operating Gross Margin</th>\n",
       "      <th>Realized Sales Gross Margin</th>\n",
       "      <th>Operating Profit Rate</th>\n",
       "      <th>Pre-tax net Interest Rate</th>\n",
       "      <th>After-tax net Interest Rate</th>\n",
       "      <th>Non-industry income and expenditure/revenue</th>\n",
       "      <th>...</th>\n",
       "      <th>Net Income to Total Assets</th>\n",
       "      <th>Total assets to GNP price</th>\n",
       "      <th>No-credit Interval</th>\n",
       "      <th>Gross Profit to Sales</th>\n",
       "      <th>Net Income to Stockholder's Equity</th>\n",
       "      <th>Liability to Equity</th>\n",
       "      <th>Degree of Financial Leverage (DFL)</th>\n",
       "      <th>Interest Coverage Ratio (Interest expense to EBIT)</th>\n",
       "      <th>Net Income Flag</th>\n",
       "      <th>Equity to Liability</th>\n",
       "    </tr>\n",
       "  </thead>\n",
       "  <tbody>\n",
       "    <tr>\n",
       "      <th>3826</th>\n",
       "      <td>0</td>\n",
       "      <td>0.518354</td>\n",
       "      <td>0.549335</td>\n",
       "      <td>0.564912</td>\n",
       "      <td>0.614393</td>\n",
       "      <td>0.614393</td>\n",
       "      <td>0.998981</td>\n",
       "      <td>0.797401</td>\n",
       "      <td>0.809326</td>\n",
       "      <td>0.303519</td>\n",
       "      <td>...</td>\n",
       "      <td>0.805295</td>\n",
       "      <td>0.001012</td>\n",
       "      <td>0.623894</td>\n",
       "      <td>0.614391</td>\n",
       "      <td>0.840558</td>\n",
       "      <td>0.276052</td>\n",
       "      <td>0.026791</td>\n",
       "      <td>0.565158</td>\n",
       "      <td>1</td>\n",
       "      <td>0.080837</td>\n",
       "    </tr>\n",
       "    <tr>\n",
       "      <th>3640</th>\n",
       "      <td>0</td>\n",
       "      <td>0.524448</td>\n",
       "      <td>0.572830</td>\n",
       "      <td>0.579849</td>\n",
       "      <td>0.608239</td>\n",
       "      <td>0.608239</td>\n",
       "      <td>0.999068</td>\n",
       "      <td>0.797511</td>\n",
       "      <td>0.809421</td>\n",
       "      <td>0.303529</td>\n",
       "      <td>...</td>\n",
       "      <td>0.816044</td>\n",
       "      <td>0.001037</td>\n",
       "      <td>0.622335</td>\n",
       "      <td>0.608241</td>\n",
       "      <td>0.842867</td>\n",
       "      <td>0.288336</td>\n",
       "      <td>0.027027</td>\n",
       "      <td>0.566077</td>\n",
       "      <td>1</td>\n",
       "      <td>0.017321</td>\n",
       "    </tr>\n",
       "    <tr>\n",
       "      <th>5044</th>\n",
       "      <td>0</td>\n",
       "      <td>0.512309</td>\n",
       "      <td>0.574193</td>\n",
       "      <td>0.564698</td>\n",
       "      <td>0.597969</td>\n",
       "      <td>0.597984</td>\n",
       "      <td>0.998968</td>\n",
       "      <td>0.797575</td>\n",
       "      <td>0.809477</td>\n",
       "      <td>0.303851</td>\n",
       "      <td>...</td>\n",
       "      <td>0.822708</td>\n",
       "      <td>0.013667</td>\n",
       "      <td>0.624852</td>\n",
       "      <td>0.597969</td>\n",
       "      <td>0.841424</td>\n",
       "      <td>0.275519</td>\n",
       "      <td>0.026792</td>\n",
       "      <td>0.565165</td>\n",
       "      <td>1</td>\n",
       "      <td>0.125737</td>\n",
       "    </tr>\n",
       "    <tr>\n",
       "      <th>1002</th>\n",
       "      <td>0</td>\n",
       "      <td>0.493297</td>\n",
       "      <td>0.554350</td>\n",
       "      <td>0.541410</td>\n",
       "      <td>0.603540</td>\n",
       "      <td>0.603540</td>\n",
       "      <td>0.999001</td>\n",
       "      <td>0.797463</td>\n",
       "      <td>0.809364</td>\n",
       "      <td>0.303587</td>\n",
       "      <td>...</td>\n",
       "      <td>0.807533</td>\n",
       "      <td>0.001144</td>\n",
       "      <td>0.623972</td>\n",
       "      <td>0.603536</td>\n",
       "      <td>0.841142</td>\n",
       "      <td>0.281765</td>\n",
       "      <td>0.026991</td>\n",
       "      <td>0.565958</td>\n",
       "      <td>1</td>\n",
       "      <td>0.023897</td>\n",
       "    </tr>\n",
       "    <tr>\n",
       "      <th>2784</th>\n",
       "      <td>0</td>\n",
       "      <td>0.458636</td>\n",
       "      <td>0.532109</td>\n",
       "      <td>0.510520</td>\n",
       "      <td>0.610675</td>\n",
       "      <td>0.610675</td>\n",
       "      <td>0.998861</td>\n",
       "      <td>0.797382</td>\n",
       "      <td>0.809316</td>\n",
       "      <td>0.303737</td>\n",
       "      <td>...</td>\n",
       "      <td>0.796767</td>\n",
       "      <td>0.000314</td>\n",
       "      <td>0.624293</td>\n",
       "      <td>0.610670</td>\n",
       "      <td>0.840081</td>\n",
       "      <td>0.275180</td>\n",
       "      <td>0.026949</td>\n",
       "      <td>0.565813</td>\n",
       "      <td>1</td>\n",
       "      <td>0.204291</td>\n",
       "    </tr>\n",
       "  </tbody>\n",
       "</table>\n",
       "<p>5 rows × 96 columns</p>\n",
       "</div>"
      ],
      "text/plain": [
       "      Bankrupt?   ROA(C) before interest and depreciation before interest  \\\n",
       "3826          0                                           0.518354          \n",
       "3640          0                                           0.524448          \n",
       "5044          0                                           0.512309          \n",
       "1002          0                                           0.493297          \n",
       "2784          0                                           0.458636          \n",
       "\n",
       "       ROA(A) before interest and % after tax  \\\n",
       "3826                                 0.549335   \n",
       "3640                                 0.572830   \n",
       "5044                                 0.574193   \n",
       "1002                                 0.554350   \n",
       "2784                                 0.532109   \n",
       "\n",
       "       ROA(B) before interest and depreciation after tax  \\\n",
       "3826                                           0.564912    \n",
       "3640                                           0.579849    \n",
       "5044                                           0.564698    \n",
       "1002                                           0.541410    \n",
       "2784                                           0.510520    \n",
       "\n",
       "       Operating Gross Margin   Realized Sales Gross Margin  \\\n",
       "3826                 0.614393                      0.614393   \n",
       "3640                 0.608239                      0.608239   \n",
       "5044                 0.597969                      0.597984   \n",
       "1002                 0.603540                      0.603540   \n",
       "2784                 0.610675                      0.610675   \n",
       "\n",
       "       Operating Profit Rate   Pre-tax net Interest Rate  \\\n",
       "3826                0.998981                    0.797401   \n",
       "3640                0.999068                    0.797511   \n",
       "5044                0.998968                    0.797575   \n",
       "1002                0.999001                    0.797463   \n",
       "2784                0.998861                    0.797382   \n",
       "\n",
       "       After-tax net Interest Rate  \\\n",
       "3826                      0.809326   \n",
       "3640                      0.809421   \n",
       "5044                      0.809477   \n",
       "1002                      0.809364   \n",
       "2784                      0.809316   \n",
       "\n",
       "       Non-industry income and expenditure/revenue  ...  \\\n",
       "3826                                      0.303519  ...   \n",
       "3640                                      0.303529  ...   \n",
       "5044                                      0.303851  ...   \n",
       "1002                                      0.303587  ...   \n",
       "2784                                      0.303737  ...   \n",
       "\n",
       "       Net Income to Total Assets   Total assets to GNP price  \\\n",
       "3826                     0.805295                    0.001012   \n",
       "3640                     0.816044                    0.001037   \n",
       "5044                     0.822708                    0.013667   \n",
       "1002                     0.807533                    0.001144   \n",
       "2784                     0.796767                    0.000314   \n",
       "\n",
       "       No-credit Interval   Gross Profit to Sales  \\\n",
       "3826             0.623894                0.614391   \n",
       "3640             0.622335                0.608241   \n",
       "5044             0.624852                0.597969   \n",
       "1002             0.623972                0.603536   \n",
       "2784             0.624293                0.610670   \n",
       "\n",
       "       Net Income to Stockholder's Equity   Liability to Equity  \\\n",
       "3826                             0.840558              0.276052   \n",
       "3640                             0.842867              0.288336   \n",
       "5044                             0.841424              0.275519   \n",
       "1002                             0.841142              0.281765   \n",
       "2784                             0.840081              0.275180   \n",
       "\n",
       "       Degree of Financial Leverage (DFL)  \\\n",
       "3826                             0.026791   \n",
       "3640                             0.027027   \n",
       "5044                             0.026792   \n",
       "1002                             0.026991   \n",
       "2784                             0.026949   \n",
       "\n",
       "       Interest Coverage Ratio (Interest expense to EBIT)   Net Income Flag  \\\n",
       "3826                                           0.565158                   1   \n",
       "3640                                           0.566077                   1   \n",
       "5044                                           0.565165                   1   \n",
       "1002                                           0.565958                   1   \n",
       "2784                                           0.565813                   1   \n",
       "\n",
       "       Equity to Liability  \n",
       "3826              0.080837  \n",
       "3640              0.017321  \n",
       "5044              0.125737  \n",
       "1002              0.023897  \n",
       "2784              0.204291  \n",
       "\n",
       "[5 rows x 96 columns]"
      ]
     },
     "execution_count": 2,
     "metadata": {},
     "output_type": "execute_result"
    }
   ],
   "source": [
    "df = pd.read_csv('data.csv')\n",
    "df = df.sample(frac=1)\n",
    "df.head()"
   ]
  },
  {
   "cell_type": "markdown",
   "metadata": {},
   "source": [
    "### Identify Categorical data types in the dataframe\n",
    "\n",
    "Check if there are any columns that contain categorical data rather than numeric data, since the latter requires different preprocessing techniques than the former. The results show that 'Bankrupt?', which is the target label, has two categorical values (1 = 'Yes', 0 = 'No'). Among the other features, 'Liability-Assets Flag' has two categorical values, and 'Net Income Flag' only has one value."
   ]
  },
  {
   "cell_type": "code",
   "execution_count": 3,
   "metadata": {},
   "outputs": [
    {
     "name": "stdout",
     "output_type": "stream",
     "text": [
      "Bankrupt? int64\n",
      "0    6599\n",
      "1     220\n",
      "Name: Bankrupt?, dtype: int64\n",
      "\n",
      " Liability-Assets Flag int64\n",
      "0    6811\n",
      "1       8\n",
      "Name:  Liability-Assets Flag, dtype: int64\n",
      "\n",
      " Net Income Flag int64\n",
      "1    6819\n",
      "Name:  Net Income Flag, dtype: int64\n",
      "\n"
     ]
    }
   ],
   "source": [
    "for index, val in df.dtypes.iteritems():\n",
    "    if val == 'int64':\n",
    "        print(index, val)\n",
    "        print(df[index].value_counts())\n",
    "        print()"
   ]
  },
  {
   "cell_type": "markdown",
   "metadata": {},
   "source": [
    "### Separate the dataset into the features and labels\n",
    "\n",
    "Separate the 'Bankrupt?' column into a label vector that is to be predicted after processing all the other features. Moreover, remove the 'Net Income Flag' column because the only value in that column is 1, and hence, does not have any predictive quality."
   ]
  },
  {
   "cell_type": "code",
   "execution_count": 4,
   "metadata": {},
   "outputs": [],
   "source": [
    "features = df.drop(['Bankrupt?', ' Net Income Flag'], axis=1)\n",
    "labels = df['Bankrupt?']"
   ]
  },
  {
   "cell_type": "markdown",
   "metadata": {},
   "source": [
    "### Look for Multicollinearity in the Features\n",
    "\n",
    "First, take a quick look at the pairwise correlations by plotting the correlation matrix."
   ]
  },
  {
   "cell_type": "code",
   "execution_count": 5,
   "metadata": {},
   "outputs": [
    {
     "data": {
      "text/plain": [
       "<matplotlib.image.AxesImage at 0x1d43e953780>"
      ]
     },
     "execution_count": 5,
     "metadata": {},
     "output_type": "execute_result"
    },
    {
     "data": {
      "image/png": "[encoded data removed]",
      "text/plain": [
       "<Figure size 288x288 with 1 Axes>"
      ]
     },
     "metadata": {
      "needs_background": "light"
     },
     "output_type": "display_data"
    }
   ],
   "source": [
    "plt.matshow(features.corr())"
   ]
  },
  {
   "cell_type": "markdown",
   "metadata": {},
   "source": [
    "It is clear that there is some multicollinearity among the features, as indicated by the bright yellow spots in the plot. Hence, the next step is calculate the multicollinearity more rigorously, by means of the variance inflation factor function from Statsmodels."
   ]
  },
  {
   "cell_type": "code",
   "execution_count": 6,
   "metadata": {},
   "outputs": [
    {
     "data": {
      "text/html": [
       "<div>\n",
       "<style scoped>\n",
       "    .dataframe tbody tr th:only-of-type {\n",
       "        vertical-align: middle;\n",
       "    }\n",
       "\n",
       "    .dataframe tbody tr th {\n",
       "        vertical-align: top;\n",
       "    }\n",
       "\n",
       "    .dataframe thead th {\n",
       "        text-align: right;\n",
       "    }\n",
       "</style>\n",
       "<table border=\"1\" class=\"dataframe\">\n",
       "  <thead>\n",
       "    <tr style=\"text-align: right;\">\n",
       "      <th></th>\n",
       "      <th>Feature</th>\n",
       "      <th>VIF</th>\n",
       "    </tr>\n",
       "  </thead>\n",
       "  <tbody>\n",
       "    <tr>\n",
       "      <th>5</th>\n",
       "      <td>Operating Profit Rate</td>\n",
       "      <td>1.410654e+08</td>\n",
       "    </tr>\n",
       "    <tr>\n",
       "      <th>59</th>\n",
       "      <td>Current Liability to Assets</td>\n",
       "      <td>2.608528e+08</td>\n",
       "    </tr>\n",
       "    <tr>\n",
       "      <th>53</th>\n",
       "      <td>Working Capital to Total Assets</td>\n",
       "      <td>3.119776e+08</td>\n",
       "    </tr>\n",
       "    <tr>\n",
       "      <th>55</th>\n",
       "      <td>Current Assets/Total Assets</td>\n",
       "      <td>4.713871e+08</td>\n",
       "    </tr>\n",
       "    <tr>\n",
       "      <th>37</th>\n",
       "      <td>Net worth/Assets</td>\n",
       "      <td>1.416076e+09</td>\n",
       "    </tr>\n",
       "    <tr>\n",
       "      <th>36</th>\n",
       "      <td>Debt ratio %</td>\n",
       "      <td>3.440936e+09</td>\n",
       "    </tr>\n",
       "    <tr>\n",
       "      <th>77</th>\n",
       "      <td>Current Liability to Equity</td>\n",
       "      <td>4.442548e+09</td>\n",
       "    </tr>\n",
       "    <tr>\n",
       "      <th>65</th>\n",
       "      <td>Current Liabilities/Equity</td>\n",
       "      <td>8.512359e+09</td>\n",
       "    </tr>\n",
       "    <tr>\n",
       "      <th>76</th>\n",
       "      <td>Current Liability to Liability</td>\n",
       "      <td>3.510621e+11</td>\n",
       "    </tr>\n",
       "    <tr>\n",
       "      <th>63</th>\n",
       "      <td>Current Liabilities/Liability</td>\n",
       "      <td>7.442736e+11</td>\n",
       "    </tr>\n",
       "  </tbody>\n",
       "</table>\n",
       "</div>"
      ],
      "text/plain": [
       "                             Feature           VIF\n",
       "5              Operating Profit Rate  1.410654e+08\n",
       "59       Current Liability to Assets  2.608528e+08\n",
       "53   Working Capital to Total Assets  3.119776e+08\n",
       "55       Current Assets/Total Assets  4.713871e+08\n",
       "37                  Net worth/Assets  1.416076e+09\n",
       "36                      Debt ratio %  3.440936e+09\n",
       "77       Current Liability to Equity  4.442548e+09\n",
       "65        Current Liabilities/Equity  8.512359e+09\n",
       "76    Current Liability to Liability  3.510621e+11\n",
       "63     Current Liabilities/Liability  7.442736e+11"
      ]
     },
     "execution_count": 6,
     "metadata": {},
     "output_type": "execute_result"
    }
   ],
   "source": [
    "vif_data = pd.DataFrame()\n",
    "vif_data['Feature'] = features.columns\n",
    "vif_data['VIF'] = [variance_inflation_factor(features.values, i) for i in range(len(features.columns))]\n",
    "vif_data.sort_values('VIF').tail(10)"
   ]
  },
  {
   "cell_type": "markdown",
   "metadata": {},
   "source": [
    "The results shows several variables with high VIF values, which indicates the presence of multicollinearity. Hence, the maximum allowable VIF is fixed (at 10), and the features with values above that threshold are removed, as shown below."
   ]
  },
  {
   "cell_type": "code",
   "execution_count": 7,
   "metadata": {},
   "outputs": [],
   "source": [
    "for i in range(len(features.columns)):\n",
    "    vif_list = [variance_inflation_factor(features.values, index) for index in range(len(features.columns))]\n",
    "    maxvif = max(vif_list)\n",
    "    drop_index = vif_list.index(maxvif)\n",
    "    if maxvif > 10:\n",
    "        features = features.drop(features.columns[drop_index], axis=1)\n",
    "    elif maxvif <= 10:\n",
    "        break"
   ]
  },
  {
   "cell_type": "markdown",
   "metadata": {},
   "source": [
    "The correlation matrix is checked again to see if the multicollinearity has decreased. The bright yellow spots have vanished from the non-diagonal areas of the plot, which is satisfactory."
   ]
  },
  {
   "cell_type": "code",
   "execution_count": 8,
   "metadata": {},
   "outputs": [
    {
     "data": {
      "text/plain": [
       "<matplotlib.image.AxesImage at 0x1d43e5c4f98>"
      ]
     },
     "execution_count": 8,
     "metadata": {},
     "output_type": "execute_result"
    },
    {
     "data": {
      "image/png": "[encoded data removed]",
      "text/plain": [
       "<Figure size 288x288 with 1 Axes>"
      ]
     },
     "metadata": {
      "needs_background": "light"
     },
     "output_type": "display_data"
    }
   ],
   "source": [
    "plt.matshow(features.corr())"
   ]
  },
  {
   "cell_type": "markdown",
   "metadata": {},
   "source": [
    "Now, check the shape of the features data after removing multicollinearity. It has 45 features, which we will use as the input dimension for the neural network."
   ]
  },
  {
   "cell_type": "code",
   "execution_count": 9,
   "metadata": {},
   "outputs": [
    {
     "name": "stdout",
     "output_type": "stream",
     "text": [
      "6819 70\n"
     ]
    }
   ],
   "source": [
    "n_data, n_features = features.shape\n",
    "print(n_data, n_features)"
   ]
  },
  {
   "cell_type": "markdown",
   "metadata": {},
   "source": [
    "### Scale the features in dataframe\n",
    "\n",
    "Standard Scaling is performed on the features using the StandardScaler object from Scikit-Learn. The 'Liability-Assets Flag' feature is not scaled because it is a categorical feature."
   ]
  },
  {
   "cell_type": "code",
   "execution_count": 10,
   "metadata": {},
   "outputs": [
    {
     "data": {
      "text/html": [
       "<div>\n",
       "<style scoped>\n",
       "    .dataframe tbody tr th:only-of-type {\n",
       "        vertical-align: middle;\n",
       "    }\n",
       "\n",
       "    .dataframe tbody tr th {\n",
       "        vertical-align: top;\n",
       "    }\n",
       "\n",
       "    .dataframe thead th {\n",
       "        text-align: right;\n",
       "    }\n",
       "</style>\n",
       "<table border=\"1\" class=\"dataframe\">\n",
       "  <thead>\n",
       "    <tr style=\"text-align: right;\">\n",
       "      <th></th>\n",
       "      <th>ROA(C) before interest and depreciation before interest</th>\n",
       "      <th>Realized Sales Gross Margin</th>\n",
       "      <th>After-tax net Interest Rate</th>\n",
       "      <th>Non-industry income and expenditure/revenue</th>\n",
       "      <th>Operating Expense Rate</th>\n",
       "      <th>Research and development expense rate</th>\n",
       "      <th>Cash flow rate</th>\n",
       "      <th>Interest-bearing debt interest rate</th>\n",
       "      <th>Tax rate (A)</th>\n",
       "      <th>Net Value Per Share (B)</th>\n",
       "      <th>...</th>\n",
       "      <th>CFO to Assets</th>\n",
       "      <th>Cash Flow to Equity</th>\n",
       "      <th>Current Liability to Current Assets</th>\n",
       "      <th>Liability-Assets Flag</th>\n",
       "      <th>Total assets to GNP price</th>\n",
       "      <th>No-credit Interval</th>\n",
       "      <th>Net Income to Stockholder's Equity</th>\n",
       "      <th>Degree of Financial Leverage (DFL)</th>\n",
       "      <th>Interest Coverage Ratio (Interest expense to EBIT)</th>\n",
       "      <th>Equity to Liability</th>\n",
       "    </tr>\n",
       "  </thead>\n",
       "  <tbody>\n",
       "    <tr>\n",
       "      <th>3826</th>\n",
       "      <td>0.217111</td>\n",
       "      <td>0.382146</td>\n",
       "      <td>0.017842</td>\n",
       "      <td>-0.009313</td>\n",
       "      <td>-0.616334</td>\n",
       "      <td>-0.750713</td>\n",
       "      <td>-0.051085</td>\n",
       "      <td>-0.151921</td>\n",
       "      <td>-0.829388</td>\n",
       "      <td>-0.143335</td>\n",
       "      <td>...</td>\n",
       "      <td>-0.059965</td>\n",
       "      <td>1.270158</td>\n",
       "      <td>-0.726876</td>\n",
       "      <td>0</td>\n",
       "      <td>-0.049491</td>\n",
       "      <td>-0.001709</td>\n",
       "      <td>0.010749</td>\n",
       "      <td>-0.047870</td>\n",
       "      <td>-0.015101</td>\n",
       "      <td>0.665043</td>\n",
       "    </tr>\n",
       "    <tr>\n",
       "      <th>3640</th>\n",
       "      <td>0.317533</td>\n",
       "      <td>0.018288</td>\n",
       "      <td>0.024774</td>\n",
       "      <td>-0.008382</td>\n",
       "      <td>-0.616334</td>\n",
       "      <td>0.065268</td>\n",
       "      <td>-0.110075</td>\n",
       "      <td>-0.151921</td>\n",
       "      <td>-0.262880</td>\n",
       "      <td>-1.009153</td>\n",
       "      <td>...</td>\n",
       "      <td>0.464281</td>\n",
       "      <td>-0.095022</td>\n",
       "      <td>1.167922</td>\n",
       "      <td>0</td>\n",
       "      <td>-0.049491</td>\n",
       "      <td>-0.128545</td>\n",
       "      <td>0.169762</td>\n",
       "      <td>-0.032825</td>\n",
       "      <td>0.054443</td>\n",
       "      <td>-0.605022</td>\n",
       "    </tr>\n",
       "    <tr>\n",
       "      <th>5044</th>\n",
       "      <td>0.117493</td>\n",
       "      <td>-0.588001</td>\n",
       "      <td>0.028948</td>\n",
       "      <td>0.020438</td>\n",
       "      <td>1.598375</td>\n",
       "      <td>0.746535</td>\n",
       "      <td>0.517831</td>\n",
       "      <td>-0.151921</td>\n",
       "      <td>-0.321283</td>\n",
       "      <td>2.239557</td>\n",
       "      <td>...</td>\n",
       "      <td>0.295353</td>\n",
       "      <td>-0.216068</td>\n",
       "      <td>-0.523809</td>\n",
       "      <td>0</td>\n",
       "      <td>-0.049491</td>\n",
       "      <td>0.076291</td>\n",
       "      <td>0.070376</td>\n",
       "      <td>-0.047786</td>\n",
       "      <td>-0.014627</td>\n",
       "      <td>1.562850</td>\n",
       "    </tr>\n",
       "    <tr>\n",
       "      <th>1002</th>\n",
       "      <td>-0.195822</td>\n",
       "      <td>-0.259506</td>\n",
       "      <td>0.020600</td>\n",
       "      <td>-0.003229</td>\n",
       "      <td>-0.616334</td>\n",
       "      <td>0.007533</td>\n",
       "      <td>-0.170837</td>\n",
       "      <td>-0.151921</td>\n",
       "      <td>1.138058</td>\n",
       "      <td>-0.274596</td>\n",
       "      <td>...</td>\n",
       "      <td>-0.082931</td>\n",
       "      <td>-0.300407</td>\n",
       "      <td>-0.306204</td>\n",
       "      <td>0</td>\n",
       "      <td>-0.049491</td>\n",
       "      <td>0.004634</td>\n",
       "      <td>0.050935</td>\n",
       "      <td>-0.035145</td>\n",
       "      <td>0.045423</td>\n",
       "      <td>-0.473535</td>\n",
       "    </tr>\n",
       "    <tr>\n",
       "      <th>2784</th>\n",
       "      <td>-0.767019</td>\n",
       "      <td>0.162297</td>\n",
       "      <td>0.017057</td>\n",
       "      <td>0.010261</td>\n",
       "      <td>-0.616334</td>\n",
       "      <td>-0.750713</td>\n",
       "      <td>-1.679151</td>\n",
       "      <td>-0.151921</td>\n",
       "      <td>-0.829388</td>\n",
       "      <td>-0.684786</td>\n",
       "      <td>...</td>\n",
       "      <td>-1.232167</td>\n",
       "      <td>-1.201349</td>\n",
       "      <td>-0.853799</td>\n",
       "      <td>0</td>\n",
       "      <td>-0.049491</td>\n",
       "      <td>0.030812</td>\n",
       "      <td>-0.022137</td>\n",
       "      <td>-0.037802</td>\n",
       "      <td>0.034424</td>\n",
       "      <td>3.133619</td>\n",
       "    </tr>\n",
       "  </tbody>\n",
       "</table>\n",
       "<p>5 rows × 70 columns</p>\n",
       "</div>"
      ],
      "text/plain": [
       "       ROA(C) before interest and depreciation before interest  \\\n",
       "3826                                           0.217111          \n",
       "3640                                           0.317533          \n",
       "5044                                           0.117493          \n",
       "1002                                          -0.195822          \n",
       "2784                                          -0.767019          \n",
       "\n",
       "       Realized Sales Gross Margin   After-tax net Interest Rate  \\\n",
       "3826                      0.382146                      0.017842   \n",
       "3640                      0.018288                      0.024774   \n",
       "5044                     -0.588001                      0.028948   \n",
       "1002                     -0.259506                      0.020600   \n",
       "2784                      0.162297                      0.017057   \n",
       "\n",
       "       Non-industry income and expenditure/revenue   Operating Expense Rate  \\\n",
       "3826                                     -0.009313                -0.616334   \n",
       "3640                                     -0.008382                -0.616334   \n",
       "5044                                      0.020438                 1.598375   \n",
       "1002                                     -0.003229                -0.616334   \n",
       "2784                                      0.010261                -0.616334   \n",
       "\n",
       "       Research and development expense rate   Cash flow rate  \\\n",
       "3826                               -0.750713        -0.051085   \n",
       "3640                                0.065268        -0.110075   \n",
       "5044                                0.746535         0.517831   \n",
       "1002                                0.007533        -0.170837   \n",
       "2784                               -0.750713        -1.679151   \n",
       "\n",
       "       Interest-bearing debt interest rate   Tax rate (A)  \\\n",
       "3826                             -0.151921      -0.829388   \n",
       "3640                             -0.151921      -0.262880   \n",
       "5044                             -0.151921      -0.321283   \n",
       "1002                             -0.151921       1.138058   \n",
       "2784                             -0.151921      -0.829388   \n",
       "\n",
       "       Net Value Per Share (B)  ...   CFO to Assets   Cash Flow to Equity  \\\n",
       "3826                 -0.143335  ...       -0.059965              1.270158   \n",
       "3640                 -1.009153  ...        0.464281             -0.095022   \n",
       "5044                  2.239557  ...        0.295353             -0.216068   \n",
       "1002                 -0.274596  ...       -0.082931             -0.300407   \n",
       "2784                 -0.684786  ...       -1.232167             -1.201349   \n",
       "\n",
       "       Current Liability to Current Assets   Liability-Assets Flag  \\\n",
       "3826                             -0.726876                       0   \n",
       "3640                              1.167922                       0   \n",
       "5044                             -0.523809                       0   \n",
       "1002                             -0.306204                       0   \n",
       "2784                             -0.853799                       0   \n",
       "\n",
       "       Total assets to GNP price   No-credit Interval  \\\n",
       "3826                   -0.049491            -0.001709   \n",
       "3640                   -0.049491            -0.128545   \n",
       "5044                   -0.049491             0.076291   \n",
       "1002                   -0.049491             0.004634   \n",
       "2784                   -0.049491             0.030812   \n",
       "\n",
       "       Net Income to Stockholder's Equity  \\\n",
       "3826                             0.010749   \n",
       "3640                             0.169762   \n",
       "5044                             0.070376   \n",
       "1002                             0.050935   \n",
       "2784                            -0.022137   \n",
       "\n",
       "       Degree of Financial Leverage (DFL)  \\\n",
       "3826                            -0.047870   \n",
       "3640                            -0.032825   \n",
       "5044                            -0.047786   \n",
       "1002                            -0.035145   \n",
       "2784                            -0.037802   \n",
       "\n",
       "       Interest Coverage Ratio (Interest expense to EBIT)  \\\n",
       "3826                                          -0.015101     \n",
       "3640                                           0.054443     \n",
       "5044                                          -0.014627     \n",
       "1002                                           0.045423     \n",
       "2784                                           0.034424     \n",
       "\n",
       "       Equity to Liability  \n",
       "3826              0.665043  \n",
       "3640             -0.605022  \n",
       "5044              1.562850  \n",
       "1002             -0.473535  \n",
       "2784              3.133619  \n",
       "\n",
       "[5 rows x 70 columns]"
      ]
     },
     "execution_count": 10,
     "metadata": {},
     "output_type": "execute_result"
    }
   ],
   "source": [
    "scaled_features = features\n",
    "lst = []\n",
    "for i in features.columns:\n",
    "    if i != ' Liability-Assets Flag':\n",
    "        scaler = StandardScaler()\n",
    "        scaled = scaler.fit_transform(features[i].values.reshape(-1,1))\n",
    "        scaled_features[i] = scaled\n",
    "    else:\n",
    "        pass\n",
    "\n",
    "scaled_features.head()"
   ]
  },
  {
   "cell_type": "markdown",
   "metadata": {},
   "source": [
    "### Split the data into training and test data\n",
    "Test size is 20% of the size of the total data."
   ]
  },
  {
   "cell_type": "code",
   "execution_count": 11,
   "metadata": {},
   "outputs": [],
   "source": [
    "X_train, X_test, Y_train, Y_test = train_test_split(scaled_features.values, np.array(tf.one_hot(labels, depth=2)),\n",
    "                                                    test_size=0.2, random_state=42)"
   ]
  },
  {
   "cell_type": "markdown",
   "metadata": {},
   "source": [
    "### Create a neural network to train on the data\n",
    "The model has two hidden layers. The model takes in the features as input, and finally outputs the bankruptcy result."
   ]
  },
  {
   "cell_type": "code",
   "execution_count": 12,
   "metadata": {},
   "outputs": [],
   "source": [
    "model = keras.Sequential([\n",
    "    keras.layers.Dense(22, input_dim=n_features, activation='relu'),\n",
    "    keras.layers.Dense(11, input_dim=22, activation='relu'),\n",
    "    keras.layers.Dense(5, input_dim=11, activation='relu'),\n",
    "    keras.layers.Dense(2, input_dim=5, activation='softmax'),\n",
    "])"
   ]
  },
  {
   "cell_type": "markdown",
   "metadata": {},
   "source": [
    "### Compile and train the model\n",
    "\n",
    "Optimizer is 'adam' and loss is 'binary_crossentropy'."
   ]
  },
  {
   "cell_type": "code",
   "execution_count": 13,
   "metadata": {},
   "outputs": [],
   "source": [
    "model.compile(optimizer='adam', loss='binary_crossentropy', metrics=['accuracy'])"
   ]
  },
  {
   "cell_type": "code",
   "execution_count": 14,
   "metadata": {},
   "outputs": [
    {
     "name": "stdout",
     "output_type": "stream",
     "text": [
      "Train on 5455 samples\n",
      "Epoch 1/10\n",
      "5455/5455 [==============================] - 2s 282us/sample - loss: 0.3782 - accuracy: 0.9216\n",
      "Epoch 2/10\n",
      "5455/5455 [==============================] - 1s 108us/sample - loss: 0.1169 - accuracy: 0.9663\n",
      "Epoch 3/10\n",
      "5455/5455 [==============================] - 0s 91us/sample - loss: 0.1019 - accuracy: 0.9663\n",
      "Epoch 4/10\n",
      "5455/5455 [==============================] - 0s 88us/sample - loss: 0.0947 - accuracy: 0.9663\n",
      "Epoch 5/10\n",
      "5455/5455 [==============================] - 0s 90us/sample - loss: 0.0897 - accuracy: 0.9663\n",
      "Epoch 6/10\n",
      "5455/5455 [==============================] - 0s 91us/sample - loss: 0.0863 - accuracy: 0.9663\n",
      "Epoch 7/10\n",
      "5455/5455 [==============================] - 0s 88us/sample - loss: 0.0837 - accuracy: 0.9663\n",
      "Epoch 8/10\n",
      "5455/5455 [==============================] - 0s 82us/sample - loss: 0.0806 - accuracy: 0.9666\n",
      "Epoch 9/10\n",
      "5455/5455 [==============================] - 0s 81us/sample - loss: 0.0787 - accuracy: 0.9665\n",
      "Epoch 10/10\n",
      "5455/5455 [==============================] - 0s 86us/sample - loss: 0.0769 - accuracy: 0.9676\n"
     ]
    }
   ],
   "source": [
    "history = model.fit(X_train, Y_train, epochs=10, batch_size=32)"
   ]
  },
  {
   "cell_type": "markdown",
   "metadata": {},
   "source": [
    "### Plot the training accuracy and training loss"
   ]
  },
  {
   "cell_type": "code",
   "execution_count": 15,
   "metadata": {},
   "outputs": [
    {
     "data": {
      "image/png": "[encoded data removed]",
      "text/plain": [
       "<Figure size 432x288 with 1 Axes>"
      ]
     },
     "metadata": {
      "needs_background": "light"
     },
     "output_type": "display_data"
    }
   ],
   "source": [
    "plt.plot(history.history['accuracy'])\n",
    "# plt.plot(history.history['loss'])\n",
    "plt.title('Model Accuracy')\n",
    "plt.ylabel('Accuracy')\n",
    "plt.xlabel('Epoch')\n",
    "plt.show()"
   ]
  },
  {
   "cell_type": "code",
   "execution_count": 17,
   "metadata": {},
   "outputs": [
    {
     "data": {
      "image/png": "[encoded data removed]",
      "text/plain": [
       "<Figure size 432x288 with 1 Axes>"
      ]
     },
     "metadata": {
      "needs_background": "light"
     },
     "output_type": "display_data"
    }
   ],
   "source": [
    "# plt.plot(history.history['accuracy'])\n",
    "plt.plot(history.history['loss'])\n",
    "plt.title('Model Loss')\n",
    "plt.ylabel('Loss')\n",
    "plt.xlabel('Epoch')\n",
    "plt.show()"
   ]
  },
  {
   "cell_type": "markdown",
   "metadata": {},
   "source": [
    "### Calculate the test accuracy"
   ]
  },
  {
   "cell_type": "code",
   "execution_count": 16,
   "metadata": {},
   "outputs": [
    {
     "name": "stdout",
     "output_type": "stream",
     "text": [
      "1364/1364 [==============================] - 0s 176us/sample - loss: 0.0954 - accuracy: 0.9743\n",
      "Accuracy: 97.43\n"
     ]
    }
   ],
   "source": [
    "_, score = model.evaluate(X_test, Y_test)\n",
    "print('Accuracy: %.2f' % (score*100))"
   ]
  },
  {
   "cell_type": "markdown",
   "metadata": {},
   "source": [
    "The model has a high test accuracy score, and moreover, the training loss and accuracy improved as expected. Hence, this is a satisfactory model for predicting bankruptcies in the given context."
   ]
  }
 ],
 "metadata": {
  "kernelspec": {
   "display_name": "Python 3",
   "language": "python",
   "name": "python3"
  },
  "language_info": {
   "codemirror_mode": {
    "name": "ipython",
    "version": 3
   },
   "file_extension": ".py",
   "mimetype": "text/x-python",
   "name": "python",
   "nbconvert_exporter": "python",
   "pygments_lexer": "ipython3",
   "version": "3.7.3"
  }
 },
 "nbformat": 4,
 "nbformat_minor": 2
}
